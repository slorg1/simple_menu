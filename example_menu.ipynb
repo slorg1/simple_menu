{
 "metadata": {
  "name": "",
  "signature": "sha256:dd5432ca4eee597914ba0e7181c7830a91e31c34435eefe608a360ee0f7971f4"
 },
 "nbformat": 3,
 "nbformat_minor": 0,
 "worksheets": [
  {
   "cells": [
    {
     "cell_type": "code",
     "collapsed": false,
     "input": [
      "%load_ext autoreload\n",
      "%autoreload 2"
     ],
     "language": "python",
     "metadata": {},
     "outputs": []
    },
    {
     "cell_type": "code",
     "collapsed": false,
     "input": [
      "cd src/"
     ],
     "language": "python",
     "metadata": {},
     "outputs": []
    },
    {
     "cell_type": "code",
     "collapsed": false,
     "input": [
      "from simple_menu.AbstractMenuBuilder import AbstractMenuBuilder\n",
      "from simple_menu.builders.PropertiesMenuBuilder import PropertiesMenuBuilder\n",
      "from simple_menu.hanlders.MenuHandler import MenuHandler"
     ],
     "language": "python",
     "metadata": {},
     "outputs": []
    },
    {
     "cell_type": "code",
     "collapsed": false,
     "input": [
      "builder = PropertiesMenuBuilder('../conf/sample.properties')\n",
      "\n",
      "menu = builder.build()"
     ],
     "language": "python",
     "metadata": {},
     "outputs": []
    },
    {
     "cell_type": "code",
     "collapsed": false,
     "input": [
      "def print_my_custom_action():\n",
      "    print 'It works!'\n",
      "def print_shutdown():\n",
      "    print 'SHUT DOWN !'\n",
      "\n",
      "m_h = MenuHandler(menu,{'FEED':print_my_custom_action,'SHUTDOWN':print_shutdown})"
     ],
     "language": "python",
     "metadata": {},
     "outputs": []
    },
    {
     "cell_type": "code",
     "collapsed": false,
     "input": [
      "m_h.get_current_location()"
     ],
     "language": "python",
     "metadata": {},
     "outputs": []
    },
    {
     "cell_type": "code",
     "collapsed": false,
     "input": [
      "m_h.next()"
     ],
     "language": "python",
     "metadata": {},
     "outputs": []
    },
    {
     "cell_type": "code",
     "collapsed": false,
     "input": [
      "m_h.previous()"
     ],
     "language": "python",
     "metadata": {},
     "outputs": []
    },
    {
     "cell_type": "code",
     "collapsed": false,
     "input": [
      "m_h.forward()"
     ],
     "language": "python",
     "metadata": {},
     "outputs": []
    },
    {
     "cell_type": "code",
     "collapsed": false,
     "input": [
      "m_h.back()"
     ],
     "language": "python",
     "metadata": {},
     "outputs": []
    }
   ],
   "metadata": {}
  }
 ]
}